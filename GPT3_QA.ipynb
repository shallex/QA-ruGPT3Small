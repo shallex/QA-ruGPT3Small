{
  "nbformat": 4,
  "nbformat_minor": 0,
  "metadata": {
    "colab": {
      "name": "GPT3-QA.ipynb",
      "provenance": [],
      "collapsed_sections": [],
      "authorship_tag": "ABX9TyNmjRGbt9ENN1QKJbchxyta",
      "include_colab_link": true
    },
    "kernelspec": {
      "name": "python3",
      "display_name": "Python 3"
    },
    "language_info": {
      "name": "python"
    },
    "accelerator": "GPU"
  },
  "cells": [
    {
      "cell_type": "markdown",
      "metadata": {
        "id": "view-in-github",
        "colab_type": "text"
      },
      "source": [
        "<a href=\"https://colab.research.google.com/github/shallex/QA-ruGPT3Small/blob/main/GPT3_QA.ipynb\" target=\"_parent\"><img src=\"https://colab.research.google.com/assets/colab-badge.svg\" alt=\"Open In Colab\"/></a>"
      ]
    },
    {
      "cell_type": "markdown",
      "metadata": {
        "id": "3RHDK81QqrET"
      },
      "source": [
        "# Finetune ruGPT3Small on QA Mail.ru"
      ]
    },
    {
      "cell_type": "markdown",
      "metadata": {
        "id": "eK10D3MSpYty"
      },
      "source": [
        "## Install enviroment"
      ]
    },
    {
      "cell_type": "code",
      "metadata": {
        "id": "dFnKvbZrjxU3"
      },
      "source": [
        "!pip3 install folium==0.2.1"
      ],
      "execution_count": null,
      "outputs": []
    },
    {
      "cell_type": "code",
      "metadata": {
        "id": "asqMueYPeIgK"
      },
      "source": [
        "!pip3 install urllib3==1.25.4 --upgrade"
      ],
      "execution_count": null,
      "outputs": []
    },
    {
      "cell_type": "code",
      "metadata": {
        "id": "yPqtVgbkeTx7"
      },
      "source": [
        "!pip3 install transformers==2.8.0"
      ],
      "execution_count": null,
      "outputs": []
    },
    {
      "cell_type": "code",
      "metadata": {
        "id": "mpkjTWefecLc"
      },
      "source": [
        "!wget https://raw.githubusercontent.com/sberbank-ai/ru-gpts/master/pretrain_transformers.py"
      ],
      "execution_count": null,
      "outputs": []
    },
    {
      "cell_type": "code",
      "metadata": {
        "id": "L7zu3BqpqJQ7"
      },
      "source": [
        "!wget https://raw.githubusercontent.com/sberbank-ai/ru-gpts/master/generate_transformers.py"
      ],
      "execution_count": null,
      "outputs": []
    },
    {
      "cell_type": "code",
      "metadata": {
        "id": "QlJB3Ln7gjO9"
      },
      "source": [
        "%%writefile setup.sh\n",
        "\n",
        "export CUDA_HOME=/usr/local/cuda-10.1\n",
        "git clone https://github.com/NVIDIA/apex\n",
        "pip install -v --no-cache-dir --global-option=\"--cpp_ext\" --global-option=\"--cuda_ext\" ./apex"
      ],
      "execution_count": null,
      "outputs": []
    },
    {
      "cell_type": "code",
      "metadata": {
        "id": "zAZqpSEJglUl"
      },
      "source": [
        "!sh setup.sh"
      ],
      "execution_count": null,
      "outputs": []
    },
    {
      "cell_type": "markdown",
      "metadata": {
        "id": "DP7YAlDPqknI"
      },
      "source": [
        "## Add data to colab\n"
      ]
    },
    {
      "cell_type": "code",
      "metadata": {
        "id": "f5EtK-jerBRv",
        "colab": {
          "base_uri": "https://localhost:8080/"
        },
        "outputId": "b9e8892b-fa2a-4924-b521-a92e310d5b91"
      },
      "source": [
        "data_path = \"/content/MAIL_TEXT.txt\"\n",
        "!ls \"$data_path\""
      ],
      "execution_count": null,
      "outputs": [
        {
          "output_type": "stream",
          "text": [
            "/content/MAIL_TEXT.txt\n"
          ],
          "name": "stdout"
        }
      ]
    },
    {
      "cell_type": "markdown",
      "metadata": {
        "id": "GDYi1TVTrtkO"
      },
      "source": [
        "## Prepare data"
      ]
    },
    {
      "cell_type": "code",
      "metadata": {
        "id": "OXdNbrq3rgzq"
      },
      "source": [
        "with open(data_path, \"r\", encoding = \"ISO-8859-1\") as file:\n",
        "    text = file.read()"
      ],
      "execution_count": null,
      "outputs": []
    },
    {
      "cell_type": "code",
      "metadata": {
        "id": "Z5XsmNzor0pK"
      },
      "source": [
        "topics = []\n",
        "all_QA = []\n",
        "for line in text.split(\"\\n\"):\n",
        "    if \"Q: \" in line and \"A: \" in line:\n",
        "        QA_text = line.split(\"A: \")\n",
        "        if len(QA_text) == 2:\n",
        "            qstn = QA_text[0].replace(\"Q: \", \" \").strip()\n",
        "            ans = QA_text[1].strip()\n",
        "            QA_text = f\"A: {ans}\"\n",
        "            QA_res = f\"<s>Q: {qstn}\\n{QA_text}</s>\"\n",
        "            all_QA.append(QA_res)\n",
        "            topics.append(qstn)"
      ],
      "execution_count": null,
      "outputs": []
    },
    {
      "cell_type": "code",
      "metadata": {
        "id": "Izc0lkkHr2Rz"
      },
      "source": [
        "import numpy as np\n",
        "import random"
      ],
      "execution_count": null,
      "outputs": []
    },
    {
      "cell_type": "code",
      "metadata": {
        "id": "3tkc1_49r36X"
      },
      "source": [
        "random.seed(1234)\n",
        "np.random.seed(1234)"
      ],
      "execution_count": null,
      "outputs": []
    },
    {
      "cell_type": "code",
      "metadata": {
        "colab": {
          "base_uri": "https://localhost:8080/"
        },
        "id": "vzfxsHFvKJ6c",
        "outputId": "8f4ac50e-c569-4f5e-891f-f767f86c8033"
      },
      "source": [
        "len(all_QA)"
      ],
      "execution_count": null,
      "outputs": [
        {
          "output_type": "execute_result",
          "data": {
            "text/plain": [
              "50497"
            ]
          },
          "metadata": {
            "tags": []
          },
          "execution_count": 17
        }
      ]
    },
    {
      "cell_type": "code",
      "metadata": {
        "colab": {
          "base_uri": "https://localhost:8080/"
        },
        "id": "EhDh3zc87RKp",
        "outputId": "051e333d-b2d9-4161-c3ef-9f002051f9f6"
      },
      "source": [
        "valid_size = 50000\n",
        "print(valid_size)"
      ],
      "execution_count": null,
      "outputs": [
        {
          "output_type": "stream",
          "text": [
            "50000\n"
          ],
          "name": "stdout"
        }
      ]
    },
    {
      "cell_type": "code",
      "metadata": {
        "id": "1EHAdpt5r5B9"
      },
      "source": [
        "unique_topics = list(set(topics))"
      ],
      "execution_count": null,
      "outputs": []
    },
    {
      "cell_type": "code",
      "metadata": {
        "id": "rUfoak6Hr6Ed"
      },
      "source": [
        "valid_topics = []"
      ],
      "execution_count": null,
      "outputs": []
    },
    {
      "cell_type": "code",
      "metadata": {
        "id": "x55W6Xf4r7MK"
      },
      "source": [
        "idxs = set()\n",
        "for _ in range(valid_size):\n",
        "    idx = np.random.randint(0, len(unique_topics))\n",
        "    idxs.add(idx)\n",
        "    valid_topics.append(unique_topics[idx])"
      ],
      "execution_count": null,
      "outputs": []
    },
    {
      "cell_type": "code",
      "metadata": {
        "id": "861f4lMGr8ez"
      },
      "source": [
        "import nltk\n",
        "\n",
        "\n",
        "train = []\n",
        "valid = []\n",
        "c = 0\n",
        "for idx, qa in enumerate(all_QA):\n",
        "    is_train = True\n",
        "    if idx in idxs:\n",
        "        is_train = False\n",
        "    if is_train:\n",
        "        train.append(qa)\n",
        "    else:\n",
        "        valid.append(qa)\n",
        "    c+=1\n",
        "    if c%10000==0:\n",
        "      print(c)"
      ],
      "execution_count": null,
      "outputs": []
    },
    {
      "cell_type": "code",
      "metadata": {
        "id": "2T0gN6gqr9pa"
      },
      "source": [
        "len(train), len(valid)"
      ],
      "execution_count": null,
      "outputs": []
    },
    {
      "cell_type": "code",
      "metadata": {
        "id": "ZPB8rrVPr-kh"
      },
      "source": [
        "with open(\"train.txt\", \"w\") as file:\n",
        "    file.write(\"\\n\".join(train))"
      ],
      "execution_count": null,
      "outputs": []
    },
    {
      "cell_type": "code",
      "metadata": {
        "id": "HP5_nk_0sAB0"
      },
      "source": [
        "with open(\"valid.txt\", \"w\") as file:\n",
        "    file.write(\"\\n\".join(valid))"
      ],
      "execution_count": null,
      "outputs": []
    },
    {
      "cell_type": "markdown",
      "metadata": {
        "id": "NitGcEKPsDQE"
      },
      "source": [
        "## Run finetuning\n"
      ]
    },
    {
      "cell_type": "code",
      "metadata": {
        "id": "5vL07XFvsBBU"
      },
      "source": [
        "!python pretrain_transformers.py \\\n",
        "    --output_dir=essays_model \\\n",
        "    --model_type=gpt2 \\\n",
        "    --model_name_or_path=sberbank-ai/rugpt3small_based_on_gpt2 \\\n",
        "    --do_train \\\n",
        "    --train_data_file=train.txt \\\n",
        "    --do_eval \\\n",
        "    --fp16 \\\n",
        "    --eval_data_file=valid.txt \\\n",
        "    --per_gpu_train_batch_size 1 \\\n",
        "    --gradient_accumulation_steps 1 \\\n",
        "    --num_train_epochs 5 \\\n",
        "    --block_size 2048 \\\n",
        "    --overwrite_output_dir"
      ],
      "execution_count": null,
      "outputs": []
    },
    {
      "cell_type": "markdown",
      "metadata": {
        "id": "w2N6ylGPt1F5"
      },
      "source": [
        "## Check model"
      ]
    },
    {
      "cell_type": "code",
      "metadata": {
        "id": "3XM10Ca8uEVN"
      },
      "source": [
        "## Select topic\n",
        "for idx in range(len(valid)):\n",
        "  if \"образует его общество\" in valid[idx]:\n",
        "    break"
      ],
      "execution_count": null,
      "outputs": []
    },
    {
      "cell_type": "code",
      "metadata": {
        "id": "cKQ_Isld3xZ3"
      },
      "source": [
        "valid[idx]"
      ],
      "execution_count": null,
      "outputs": []
    },
    {
      "cell_type": "code",
      "metadata": {
        "id": "JRlAAsIbsHdf"
      },
      "source": [
        "!python generate_transformers.py \\\n",
        "    --model_type=gpt2 \\\n",
        "    --model_name_or_path=essays_model \\\n",
        "    --k=5 \\\n",
        "    --p=0.95 \\\n",
        "    --length=100"
      ],
      "execution_count": null,
      "outputs": []
    }
  ]
}